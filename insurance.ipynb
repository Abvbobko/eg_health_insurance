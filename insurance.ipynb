{
 "cells": [
  {
   "cell_type": "markdown",
   "metadata": {},
   "source": [
    "# Health Insurance Dataset (by Alexey Bobko)"
   ]
  },
  {
   "cell_type": "markdown",
   "metadata": {},
   "source": [
    "### Task:\n",
    "- Build a model that predicts \"charges\" for a given person based on their features.\n",
    "- Evaluate the quality of your model.\n",
    "- Identify the factors with the highest impact.\n"
   ]
  },
  {
   "cell_type": "code",
   "execution_count": 798,
   "metadata": {},
   "outputs": [],
   "source": [
    "import pandas as pd\n",
    "import numpy as np\n",
    "import matplotlib.pyplot as plt\n",
    "\n",
    "from sklearn.model_selection import train_test_split\n",
    "\n",
    "from sklearn.preprocessing import LabelEncoder\n",
    "from sklearn.preprocessing import MinMaxScaler\n",
    "from sklearn.preprocessing import PolynomialFeatures\n",
    "\n",
    "from sklearn.linear_model import Lasso\n",
    "from sklearn.linear_model import LinearRegression\n",
    "from sklearn.linear_model import Ridge\n",
    "\n",
    "from sklearn.model_selection import cross_val_score\n",
    "from sklearn.model_selection import GridSearchCV\n",
    "from sklearn.pipeline import Pipeline"
   ]
  },
  {
   "cell_type": "code",
   "execution_count": 829,
   "metadata": {},
   "outputs": [],
   "source": [
    "import warnings\n",
    "warnings.filterwarnings('ignore')"
   ]
  },
  {
   "cell_type": "code",
   "execution_count": 801,
   "metadata": {},
   "outputs": [
    {
     "data": {
      "text/html": [
       "<div>\n",
       "<style scoped>\n",
       "    .dataframe tbody tr th:only-of-type {\n",
       "        vertical-align: middle;\n",
       "    }\n",
       "\n",
       "    .dataframe tbody tr th {\n",
       "        vertical-align: top;\n",
       "    }\n",
       "\n",
       "    .dataframe thead th {\n",
       "        text-align: right;\n",
       "    }\n",
       "</style>\n",
       "<table border=\"1\" class=\"dataframe\">\n",
       "  <thead>\n",
       "    <tr style=\"text-align: right;\">\n",
       "      <th></th>\n",
       "      <th>age</th>\n",
       "      <th>sex</th>\n",
       "      <th>bmi</th>\n",
       "      <th>children</th>\n",
       "      <th>smoker</th>\n",
       "      <th>region</th>\n",
       "      <th>charges</th>\n",
       "    </tr>\n",
       "  </thead>\n",
       "  <tbody>\n",
       "    <tr>\n",
       "      <td>0</td>\n",
       "      <td>19</td>\n",
       "      <td>female</td>\n",
       "      <td>27.900</td>\n",
       "      <td>0</td>\n",
       "      <td>yes</td>\n",
       "      <td>southwest</td>\n",
       "      <td>16884.92400</td>\n",
       "    </tr>\n",
       "    <tr>\n",
       "      <td>1</td>\n",
       "      <td>18</td>\n",
       "      <td>male</td>\n",
       "      <td>33.770</td>\n",
       "      <td>1</td>\n",
       "      <td>no</td>\n",
       "      <td>southeast</td>\n",
       "      <td>1725.55230</td>\n",
       "    </tr>\n",
       "    <tr>\n",
       "      <td>2</td>\n",
       "      <td>28</td>\n",
       "      <td>male</td>\n",
       "      <td>33.000</td>\n",
       "      <td>3</td>\n",
       "      <td>no</td>\n",
       "      <td>southeast</td>\n",
       "      <td>4449.46200</td>\n",
       "    </tr>\n",
       "    <tr>\n",
       "      <td>3</td>\n",
       "      <td>33</td>\n",
       "      <td>male</td>\n",
       "      <td>22.705</td>\n",
       "      <td>0</td>\n",
       "      <td>no</td>\n",
       "      <td>northwest</td>\n",
       "      <td>21984.47061</td>\n",
       "    </tr>\n",
       "    <tr>\n",
       "      <td>4</td>\n",
       "      <td>32</td>\n",
       "      <td>male</td>\n",
       "      <td>28.880</td>\n",
       "      <td>0</td>\n",
       "      <td>no</td>\n",
       "      <td>northwest</td>\n",
       "      <td>3866.85520</td>\n",
       "    </tr>\n",
       "  </tbody>\n",
       "</table>\n",
       "</div>"
      ],
      "text/plain": [
       "   age     sex     bmi  children smoker     region      charges\n",
       "0   19  female  27.900         0    yes  southwest  16884.92400\n",
       "1   18    male  33.770         1     no  southeast   1725.55230\n",
       "2   28    male  33.000         3     no  southeast   4449.46200\n",
       "3   33    male  22.705         0     no  northwest  21984.47061\n",
       "4   32    male  28.880         0     no  northwest   3866.85520"
      ]
     },
     "execution_count": 801,
     "metadata": {},
     "output_type": "execute_result"
    }
   ],
   "source": [
    "# load data\n",
    "df_insurance = pd.read_csv(\"./insurance.csv\")\n",
    "df_insurance.head()"
   ]
  },
  {
   "cell_type": "markdown",
   "metadata": {},
   "source": [
    "Call info() method to view data information.<br> We can see that there is no NaN, so we don't need to fill in empty cells."
   ]
  },
  {
   "cell_type": "markdown",
   "metadata": {},
   "source": [
    "Body Mass Index (BMI):<br>\n",
    "    I = $\\frac{m}{h^2}$  <br>\n",
    "    \n",
    "    where \n",
    "   - m - weight in kg, \n",
    "   - h - height in m"
   ]
  },
  {
   "cell_type": "markdown",
   "metadata": {},
   "source": [
    "## Data visualization"
   ]
  },
  {
   "cell_type": "markdown",
   "metadata": {},
   "source": [
    "Visualize data to understand what it is."
   ]
  },
  {
   "cell_type": "markdown",
   "metadata": {},
   "source": [
    "First, look at the BMI values"
   ]
  },
  {
   "cell_type": "code",
   "execution_count": 763,
   "metadata": {},
   "outputs": [
    {
     "data": {
      "image/png": "[encoded data removed]",
      "text/plain": [
       "<Figure size 720x504 with 1 Axes>"
      ]
     },
     "metadata": {
      "needs_background": "light"
     },
     "output_type": "display_data"
    }
   ],
   "source": [
    "fig, ax = plt.subplots(figsize=(10, 7))\n",
    "\n",
    "ax.set_title(\"BMI characteristic\")\n",
    "ax.yaxis.grid(True, linestyle='-', color='lightgrey', alpha=0.5)\n",
    "ax.boxplot(df_insurance.bmi)\n",
    "\n",
    "plt.show()"
   ]
  },
  {
   "cell_type": "markdown",
   "metadata": {},
   "source": [
    "Then we output how many people live in every region"
   ]
  },
  {
   "cell_type": "code",
   "execution_count": 764,
   "metadata": {
    "scrolled": true
   },
   "outputs": [
    {
     "data": {
      "image/png": "[encoded data removed]",
      "text/plain": [
       "<Figure size 432x288 with 1 Axes>"
      ]
     },
     "metadata": {},
     "output_type": "display_data"
    }
   ],
   "source": [
    "fig, ax = plt.subplots()\n",
    "\n",
    "regions_names = df_insurance.region.value_counts().index\n",
    "region_population = df_insurance.region.value_counts().values\n",
    "\n",
    "ax.set_title(\"Regions population\")\n",
    "ax.pie(region_population, labels=regions_names, \n",
    "         autopct='%1.1f%%', shadow=True, startangle=90)\n",
    "plt.show()"
   ]
  },
  {
   "cell_type": "markdown",
   "metadata": {},
   "source": [
    "And look at sex and smookers division"
   ]
  },
  {
   "cell_type": "code",
   "execution_count": 765,
   "metadata": {},
   "outputs": [
    {
     "data": {
      "image/png": "[encoded data removed]",
      "text/plain": [
       "<Figure size 576x288 with 2 Axes>"
      ]
     },
     "metadata": {
      "needs_background": "light"
     },
     "output_type": "display_data"
    }
   ],
   "source": [
    "fig, (ax_sex, ax_smoker) = plt.subplots(nrows=1, ncols=2, figsize=(8, 4))\n",
    "ax_sex.set_title(\"sex\")\n",
    "ax_smoker.set_title(\"smoker\")\n",
    "\n",
    "sex_names = df_insurance.sex.value_counts().index\n",
    "sex_cnt = df_insurance.sex.value_counts().values\n",
    "\n",
    "smoke_answers = df_insurance.smoker.value_counts().index\n",
    "smokers_cnt = df_insurance.smoker.value_counts().values\n",
    "\n",
    "ax_sex.bar(sex_names, sex_cnt, width=0.7)\n",
    "ax_smoker.bar(smoke_answers, smokers_cnt, width=0.7)\n",
    "plt.show()"
   ]
  },
  {
   "cell_type": "markdown",
   "metadata": {},
   "source": [
    "Let's analyze what ages groups there are"
   ]
  },
  {
   "cell_type": "code",
   "execution_count": 766,
   "metadata": {
    "scrolled": false
   },
   "outputs": [
    {
     "data": {
      "image/png": "[encoded data removed]",
      "text/plain": [
       "<Figure size 720x360 with 1 Axes>"
      ]
     },
     "metadata": {
      "needs_background": "light"
     },
     "output_type": "display_data"
    }
   ],
   "source": [
    "fig, ax = plt.subplots(figsize=(10, 5))\n",
    "\n",
    "ax.hist(df_insurance.age, width=4)\n",
    "ax.set_title(\"Ages\")\n",
    "plt.show()"
   ]
  },
  {
   "cell_type": "markdown",
   "metadata": {},
   "source": [
    "And also look at number of children"
   ]
  },
  {
   "cell_type": "code",
   "execution_count": 767,
   "metadata": {},
   "outputs": [
    {
     "data": {
      "image/png": "[encoded data removed]",
      "text/plain": [
       "<Figure size 576x360 with 1 Axes>"
      ]
     },
     "metadata": {
      "needs_background": "light"
     },
     "output_type": "display_data"
    }
   ],
   "source": [
    "fig, ax = plt.subplots(figsize=(8, 5))\n",
    "\n",
    "has_children = df_insurance.children.value_counts().index\n",
    "children_cnt = df_insurance.children.value_counts().values\n",
    "ax.set_title(\"Info about number of children in family\")\n",
    "ax.plot(has_children, children_cnt, 'o')\n",
    "plt.show()"
   ]
  },
  {
   "cell_type": "markdown",
   "metadata": {},
   "source": [
    "Depending on the charges and ages there are interesting dependencies"
   ]
  },
  {
   "cell_type": "code",
   "execution_count": 805,
   "metadata": {},
   "outputs": [
    {
     "data": {
      "image/png": "[encoded data removed]",
      "text/plain": [
       "<Figure size 576x360 with 1 Axes>"
      ]
     },
     "metadata": {
      "needs_background": "light"
     },
     "output_type": "display_data"
    }
   ],
   "source": [
    "fig, ax = plt.subplots(figsize=(8, 5))\n",
    "\n",
    "age = df_insurance.age\n",
    "charges = df_insurance.charges\n",
    "ax.set_xlabel(\"age\")\n",
    "ax.set_ylabel(\"charges\")\n",
    "ax.scatter(age, charges)\n",
    "plt.show()"
   ]
  },
  {
   "cell_type": "markdown",
   "metadata": {},
   "source": [
    "# Data preprocessing"
   ]
  },
  {
   "cell_type": "markdown",
   "metadata": {},
   "source": [
    "Before we build a model, we need to process the data (scale it, change categorical features on numerical). We create special classes to preprocess data"
   ]
  },
  {
   "cell_type": "code",
   "execution_count": 811,
   "metadata": {},
   "outputs": [],
   "source": [
    "class SexEncoder:\n",
    "    # 0 - male\n",
    "    # 1 - female\n",
    "\n",
    "    def fit(self, X, y=None):\n",
    "        return self\n",
    "\n",
    "    def transform(self, X):\n",
    "        X_result = X.copy()\n",
    "        X_result.loc[X_result.sex == \"male\", \"sex\"] = 0\n",
    "        X_result.loc[X_result.sex == \"female\", \"sex\"] = 1\n",
    "        \n",
    "        return X_result\n",
    "    \n",
    "    def fit_transform(self, X, y=None):\n",
    "        return self.fit(X, y).transform(X)"
   ]
  },
  {
   "cell_type": "code",
   "execution_count": 812,
   "metadata": {},
   "outputs": [],
   "source": [
    "class SmokerEncoder:\n",
    "    # 0 - no\n",
    "    # 1 - yes\n",
    "\n",
    "    def fit(self, X, y=None):\n",
    "        return self\n",
    "\n",
    "    def transform(self, X):\n",
    "        X_result = X.copy()\n",
    "        X_result.loc[X_result.smoker == \"yes\", \"smoker\"] = 1\n",
    "        X_result.loc[X_result.smoker == \"no\", \"smoker\"] = 0\n",
    "        \n",
    "        return X_result\n",
    "    \n",
    "    def fit_transform(self, X, y=None):\n",
    "        return self.fit(X, y).transform(X)"
   ]
  },
  {
   "cell_type": "markdown",
   "metadata": {},
   "source": [
    "There are two ways how to encode region. The first idea is change regions on cardinal directions (southwest on south and west). The second idea is encode regions by labels"
   ]
  },
  {
   "cell_type": "code",
   "execution_count": 813,
   "metadata": {},
   "outputs": [],
   "source": [
    "class DirectionEncoder:    \n",
    "    def encode_regions(self, X):\n",
    "        # encode region data\n",
    "        сardinal_directions = [\"north\", \"south\", \"west\", \"east\"]\n",
    "        has_direction = {}\n",
    "        for direction in сardinal_directions:\n",
    "            has_direction[direction] = np.array(X.region.map(\n",
    "                    lambda region: 1 if (direction in region) else 0\n",
    "                ))\n",
    "\n",
    "        df_directions_info = pd.DataFrame(has_direction)\n",
    "        return df_directions_info\n",
    "    \n",
    "    def fit(self, X, y=None):\n",
    "        return self\n",
    "\n",
    "    def transform(self, X):\n",
    "        X_result = X.copy()\n",
    "        df_directions_info = self.encode_regions(X_result)\n",
    "        X_result = pd.concat([X_result.reset_index(drop=True), \n",
    "                              df_directions_info.reset_index(drop=True)\n",
    "                             ], \n",
    "                             axis=1)        \n",
    "        # charges_col = X_result.pop(\"charges\")\n",
    "        # X_result[\"charges\"] = charges_col\n",
    "        X_result = X_result.drop([\"region\"], axis=1)        \n",
    "        return X_result\n",
    "    \n",
    "    def fit_transform(self, X, y=None):\n",
    "        return self.fit(X, y).transform(X)"
   ]
  },
  {
   "cell_type": "code",
   "execution_count": 809,
   "metadata": {},
   "outputs": [],
   "source": [
    "class RegionEncoder:     \n",
    "    def __init__(self):\n",
    "        self.encoder = LabelEncoder()\n",
    "        \n",
    "    def fit(self, X, y=None):        \n",
    "        self.encoder.fit(X[['region']])\n",
    "        return self\n",
    "\n",
    "    def transform(self, X):\n",
    "        X_result = X.copy()\n",
    "        X_result['region'] = self.encoder.transform(X_result[['region']])        \n",
    "        return X_result\n",
    "    \n",
    "    def fit_transform(self, X, y=None):\n",
    "        return self.fit(X, y).transform(X)"
   ]
  },
  {
   "cell_type": "code",
   "execution_count": 814,
   "metadata": {},
   "outputs": [],
   "source": [
    "class DataScaler:\n",
    "    def __init__(self, scaler, cols):\n",
    "        self.scaler = scaler\n",
    "        self.cols = cols\n",
    "        \n",
    "    def fit(self, X, y=None):\n",
    "        self.scaler.fit(X[self.cols], y)\n",
    "        return self\n",
    "\n",
    "    def transform(self, X):\n",
    "        X_result = X.copy()\n",
    "        X_result[self.cols] = self.scaler.transform(X_result[self.cols])\n",
    "        return X_result\n",
    "    \n",
    "    def fit_transform(self, X, y=None):\n",
    "        return self.fit(X, y).transform(X)"
   ]
  },
  {
   "cell_type": "markdown",
   "metadata": {},
   "source": [
    "## Create and score model"
   ]
  },
  {
   "cell_type": "markdown",
   "metadata": {},
   "source": [
    "Split our dataset on train and test subsets"
   ]
  },
  {
   "cell_type": "code",
   "execution_count": 848,
   "metadata": {},
   "outputs": [],
   "source": [
    "X = df_insurance.drop([\"charges\"], axis=1)\n",
    "y = df_insurance.charges\n",
    "X_train, X_test, y_train, y_test = train_test_split(X, y, test_size=0.3, random_state=42)"
   ]
  },
  {
   "cell_type": "markdown",
   "metadata": {},
   "source": [
    "Create pipeline for our data processing."
   ]
  },
  {
   "cell_type": "code",
   "execution_count": 849,
   "metadata": {},
   "outputs": [],
   "source": [
    "steps = [('sex_en', SexEncoder()), \n",
    "         ('smoker_en', SmokerEncoder()),          \n",
    "         ('dir_en', DirectionEncoder()),\n",
    "         # ('region_en', RegionEncoder()),\n",
    "         ('scaler', DataScaler(MinMaxScaler(), ['age', 'bmi', 'children'])),\n",
    "         ('poly', PolynomialFeatures(degree=2))\n",
    "        ]\n",
    "preproc_pipe = Pipeline(steps)"
   ]
  },
  {
   "cell_type": "code",
   "execution_count": 850,
   "metadata": {},
   "outputs": [],
   "source": [
    "steps = [('preprocessor', Pipeline(steps)), \n",
    "         ('estimator', Lasso(alpha=24))]\n",
    "pipe = Pipeline(steps)"
   ]
  },
  {
   "cell_type": "markdown",
   "metadata": {},
   "source": [
    "Find the best alpha to our Lasso regression using GridSearch"
   ]
  },
  {
   "cell_type": "code",
   "execution_count": 851,
   "metadata": {},
   "outputs": [],
   "source": [
    "X_train_preproc = preproc_pipe.fit_transform(X_train)"
   ]
  },
  {
   "cell_type": "code",
   "execution_count": 852,
   "metadata": {},
   "outputs": [],
   "source": [
    "parameters = {'alpha': list(range(100))}\n",
    "gs_pipe = GridSearchCV(Lasso(), parameters)"
   ]
  },
  {
   "cell_type": "code",
   "execution_count": 853,
   "metadata": {},
   "outputs": [
    {
     "data": {
      "text/plain": [
       "{'alpha': 24}"
      ]
     },
     "execution_count": 853,
     "metadata": {},
     "output_type": "execute_result"
    }
   ],
   "source": [
    "gs_pipe.fit(X_train_preproc, y_train)\n",
    "gs_pipe.best_params_"
   ]
  },
  {
   "cell_type": "markdown",
   "metadata": {},
   "source": [
    "Score our model using cross validation"
   ]
  },
  {
   "cell_type": "code",
   "execution_count": 854,
   "metadata": {
    "scrolled": true
   },
   "outputs": [
    {
     "data": {
      "text/plain": [
       "array([0.85850687, 0.79715564, 0.88101499, 0.81936415, 0.83741596])"
      ]
     },
     "execution_count": 854,
     "metadata": {},
     "output_type": "execute_result"
    }
   ],
   "source": [
    "score = cross_val_score(pipe, X, y, cv=5)\n",
    "score"
   ]
  },
  {
   "cell_type": "markdown",
   "metadata": {},
   "source": [
    "Calculate mean score"
   ]
  },
  {
   "cell_type": "code",
   "execution_count": 855,
   "metadata": {},
   "outputs": [
    {
     "data": {
      "text/plain": [
       "0.8386915213726203"
      ]
     },
     "execution_count": 855,
     "metadata": {},
     "output_type": "execute_result"
    }
   ],
   "source": [
    "np.mean(score)"
   ]
  },
  {
   "cell_type": "markdown",
   "metadata": {},
   "source": [
    "Now find parameters of the highest impact"
   ]
  },
  {
   "cell_type": "code",
   "execution_count": 856,
   "metadata": {},
   "outputs": [],
   "source": [
    "X_train_preproc = preproc_pipe.fit_transform(X_train)"
   ]
  },
  {
   "cell_type": "code",
   "execution_count": 857,
   "metadata": {},
   "outputs": [
    {
     "data": {
      "text/plain": [
       "Lasso(alpha=24, copy_X=True, fit_intercept=True, max_iter=1000, normalize=False,\n",
       "      positive=False, precompute=False, random_state=None, selection='cyclic',\n",
       "      tol=0.0001, warm_start=False)"
      ]
     },
     "execution_count": 857,
     "metadata": {},
     "output_type": "execute_result"
    }
   ],
   "source": [
    "pipe.steps[1][1].fit(X_train_preproc, y_train)"
   ]
  },
  {
   "cell_type": "code",
   "execution_count": 861,
   "metadata": {},
   "outputs": [
    {
     "data": {
      "text/plain": [
       "<matplotlib.collections.PathCollection at 0x1d6a3216188>"
      ]
     },
     "execution_count": 861,
     "metadata": {},
     "output_type": "execute_result"
    },
    {
     "data": {
      "image/png": "[encoded data removed]",
      "text/plain": [
       "<Figure size 432x288 with 1 Axes>"
      ]
     },
     "metadata": {
      "needs_background": "light"
     },
     "output_type": "display_data"
    }
   ],
   "source": [
    "plt.scatter(range(1, len(pipe.steps[1][1].coef_) + 1), pipe.steps[1][1].coef_)"
   ]
  },
  {
   "cell_type": "markdown",
   "metadata": {},
   "source": [
    "There are 5-6 the most impact parameters. Let's look at them"
   ]
  },
  {
   "cell_type": "code",
   "execution_count": 864,
   "metadata": {},
   "outputs": [
    {
     "data": {
      "text/plain": [
       "array([ 0.00000000e+00,  4.25015451e+03,  0.00000000e+00,  0.00000000e+00,\n",
       "        1.50824735e+03,  2.98593252e+03,  0.00000000e+00, -0.00000000e+00,\n",
       "       -1.71236631e+01,  4.98158691e-13,  7.66742224e+03,  0.00000000e+00,\n",
       "        0.00000000e+00,  0.00000000e+00,  0.00000000e+00, -0.00000000e+00,\n",
       "        1.24713703e+03,  0.00000000e+00,  0.00000000e+00,  0.00000000e+00,\n",
       "        0.00000000e+00,  7.68256975e+02, -0.00000000e+00,  2.00078964e+02,\n",
       "       -0.00000000e+00, -0.00000000e+00,  1.46998865e+02, -0.00000000e+00,\n",
       "        0.00000000e+00,  5.14495802e+04,  2.22210617e+03, -0.00000000e+00,\n",
       "       -0.00000000e+00,  0.00000000e+00,  0.00000000e+00, -0.00000000e+00,\n",
       "        1.18395786e+03,  0.00000000e+00,  0.00000000e+00,  4.97577844e+02,\n",
       "        4.04639033e+01, -0.00000000e+00,  3.63589618e+02,  3.56638839e+02,\n",
       "        0.00000000e+00,  0.00000000e+00,  0.00000000e+00, -0.00000000e+00,\n",
       "        2.77040315e+02, -0.00000000e+00, -0.00000000e+00, -0.00000000e+00,\n",
       "       -4.08758792e+01,  0.00000000e+00,  1.24539673e-13])"
      ]
     },
     "execution_count": 864,
     "metadata": {},
     "output_type": "execute_result"
    }
   ],
   "source": [
    "# all coefs\n",
    "pipe.steps[1][1].coef_"
   ]
  },
  {
   "cell_type": "code",
   "execution_count": 885,
   "metadata": {},
   "outputs": [
    {
     "data": {
      "text/plain": [
       "array([16,  4, 30,  5,  1, 10, 29], dtype=int64)"
      ]
     },
     "execution_count": 885,
     "metadata": {},
     "output_type": "execute_result"
    }
   ],
   "source": [
    "indexes_of_max_coefs = np.argsort(pipe.steps[1][1].coef_)[-7:]\n",
    "indexes_of_max_coefs"
   ]
  },
  {
   "cell_type": "code",
   "execution_count": 888,
   "metadata": {},
   "outputs": [
    {
     "name": "stdout",
     "output_type": "stream",
     "text": [
      "[1 0 0 0 0 0 1 0 0] - 1247.1370335105569\n",
      "[0 0 0 1 0 0 0 0 0] - 1508.2473458298693\n",
      "[0 0 1 0 0 1 0 0 0] - 2222.106173745796\n",
      "[0 0 0 0 1 0 0 0 0] - 2985.932518428969\n",
      "[1 0 0 0 0 0 0 0 0] - 4250.154513019187\n",
      "[2 0 0 0 0 0 0 0 0] - 7667.422238857684\n",
      "[0 0 1 0 1 0 0 0 0] - 51449.58022650834\n"
     ]
    }
   ],
   "source": [
    "for index in indexes_of_max_coefs:\n",
    "    print(\"{0} - {1}\".format(\n",
    "            pipe.steps[0][1].steps[-1][1].powers_[index],\n",
    "            pipe.steps[1][1].coef_[index]\n",
    "        )\n",
    "    )\n",
    "    \n",
    "# ['age', 'sex', 'bmi', 'children', 'smoker', \"north\", \"south\", \"west\", \"east\"]"
   ]
  },
  {
   "cell_type": "markdown",
   "metadata": {},
   "source": [
    "#### Conclusion:\n",
    "We can see that the highest impact parameters are age, bmi and smoker columns. "
   ]
  }
 ],
 "metadata": {
  "kernelspec": {
   "display_name": "Python 3",
   "language": "python",
   "name": "python3"
  },
  "language_info": {
   "codemirror_mode": {
    "name": "ipython",
    "version": 3
   },
   "file_extension": ".py",
   "mimetype": "text/x-python",
   "name": "python",
   "nbconvert_exporter": "python",
   "pygments_lexer": "ipython3",
   "version": "3.7.4"
  }
 },
 "nbformat": 4,
 "nbformat_minor": 2
}
